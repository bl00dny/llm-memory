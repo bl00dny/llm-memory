{
 "cells": [
  {
   "cell_type": "code",
   "execution_count": 1,
   "id": "371d8aef-ef8d-427a-8d84-4aa0e4130716",
   "metadata": {},
   "outputs": [],
   "source": [
    "import os\n",
    "from dotenv import load_dotenv\n",
    "from mem0 import Memory"
   ]
  },
  {
   "cell_type": "code",
   "execution_count": null,
   "id": "6a8f7bc3-c08b-49ec-9e25-b736ed0835b1",
   "metadata": {},
   "outputs": [],
   "source": [
    "load_dotenv()\n",
    "\n",
    "LLM_AZURE_OPENAI_API_KEY = os.environ[\"LLM_AZURE_OPENAI_API_KEY\"]\n",
    "LLM_AZURE_CHAT_COMPLETION_DEPLOYMENT = os.environ[\"LLM_AZURE_CHAT_COMPLETION_DEPLOYMENT\"]\n",
    "LLM_AZURE_OPENAI_ENDPOINT = os.environ[\"LLM_AZURE_OPENAI_ENDPOINT\"]\n",
    "LLM_AZURE_CHAT_COMPLETION_API_VERSION = os.environ[\"LLM_AZURE_CHAT_COMPLETION_API_VERSION\"]\n",
    "LLM_AZURE_EMBEDDING_DEPLOYMENT = os.environ[\"LLM_AZURE_EMBEDDING_DEPLOYMENT\"]\n",
    "LLM_AZURE_EMBEDDING_API_VERSION = os.environ[\"LLM_AZURE_EMBEDDING_API_VERSION\"]\n",
    "SEARCH_SERVICE_NAME = os.environ[\"SEARCH_SERVICE_NAME\"]\n",
    "SEARCH_SERVICE_API_KEY = os.environ[\"SEARCH_SERVICE_API_KEY\"]"
   ]
  },
  {
   "cell_type": "code",
   "execution_count": 41,
   "id": "6f41227a-c529-4c8f-b26d-8da12d759263",
   "metadata": {},
   "outputs": [],
   "source": [
    "custom_fact_extraction_prompt = \"\"\"\n",
    "Please only extract entities containing customer support information, order details, and user information. \n",
    "Here are some few shot examples:\n",
    "\n",
    "Input: Hi.\n",
    "Output: {\"facts\" : []}\n",
    "\n",
    "Input: The weather is nice today.\n",
    "Output: {\"facts\" : []}\n",
    "\n",
    "Input: My order #12345 hasn't arrived yet.\n",
    "Output: {\"facts\" : [\"Order #12345 not received\"]}\n",
    "\n",
    "Input: I'm John Doe, and I'd like to return the shoes I bought last week.\n",
    "Output: {\"facts\" : [\"Customer name: John Doe\", \"Wants to return shoes\", \"Purchase made last week\"]}\n",
    "\n",
    "Input: I ordered a red shirt, size medium, but received a blue one instead.\n",
    "Output: {\"facts\" : [\"Ordered red shirt, size medium\", \"Received blue shirt instead\"]}\n",
    "\n",
    "Return the facts and customer information in a json format as shown above.\n",
    "\"\"\""
   ]
  },
  {
   "cell_type": "code",
   "execution_count": 42,
   "id": "f932be81-0fc4-41fb-b779-1c182c1327d6",
   "metadata": {},
   "outputs": [],
   "source": [
    "config = {\n",
    "    \"llm\": {\n",
    "        \"provider\": \"azure_openai\",\n",
    "        \"config\": {\n",
    "            \"model\": LLM_AZURE_CHAT_COMPLETION_DEPLOYMENT,\n",
    "            \"temperature\": 0.1,\n",
    "            \"max_tokens\": 2000,\n",
    "            \"azure_kwargs\": {\n",
    "                  \"azure_deployment\": LLM_AZURE_CHAT_COMPLETION_DEPLOYMENT,\n",
    "                  \"api_version\": LLM_AZURE_CHAT_COMPLETION_API_VERSION,\n",
    "                  \"azure_endpoint\": LLM_AZURE_OPENAI_ENDPOINT,\n",
    "                  \"api_key\": LLM_AZURE_OPENAI_API_KEY,\n",
    "                  \"default_headers\": {\n",
    "                    \"CustomHeader\": \"memo-demo\",\n",
    "                  }\n",
    "              }\n",
    "        }\n",
    "    },\n",
    "    \"embedder\": {\n",
    "        \"provider\": \"azure_openai\",\n",
    "        \"config\": {\n",
    "            \"model\": LLM_AZURE_EMBEDDING_DEPLOYMENT,\n",
    "            \"embedding_dims\": 1536,\n",
    "            \"azure_kwargs\": {\n",
    "                \"api_version\": LLM_AZURE_EMBEDDING_API_VERSION,\n",
    "                \"azure_deployment\": LLM_AZURE_EMBEDDING_DEPLOYMENT,\n",
    "                \"azure_endpoint\": LLM_AZURE_OPENAI_ENDPOINT,\n",
    "                \"api_key\": LLM_AZURE_OPENAI_API_KEY,\n",
    "            },\n",
    "        },\n",
    "    },\n",
    "    \"vector_store\": {\n",
    "        \"provider\": \"azure_ai_search\",\n",
    "        \"config\": {\n",
    "            \"service_name\": SEARCH_SERVICE_NAME,\n",
    "            \"api_key\": SEARCH_SERVICE_API_KEY,\n",
    "            \"collection_name\": \"memories\",\n",
    "            \"embedding_model_dims\": 1536,\n",
    "        },\n",
    "    },\n",
    "    \"custom_fact_extraction_prompt\": custom_fact_extraction_prompt\n",
    "}"
   ]
  },
  {
   "cell_type": "code",
   "execution_count": 43,
   "id": "24e92d42-ac02-4cb2-8a70-b484aaaefd92",
   "metadata": {},
   "outputs": [],
   "source": [
    "m = Memory.from_config(config)"
   ]
  }
 ],
 "metadata": {
  "kernelspec": {
   "display_name": "Python 3 (ipykernel)",
   "language": "python",
   "name": "python3"
  },
  "language_info": {
   "codemirror_mode": {
    "name": "ipython",
    "version": 3
   },
   "file_extension": ".py",
   "mimetype": "text/x-python",
   "name": "python",
   "nbconvert_exporter": "python",
   "pygments_lexer": "ipython3",
   "version": "3.12.10"
  }
 },
 "nbformat": 4,
 "nbformat_minor": 5
}
