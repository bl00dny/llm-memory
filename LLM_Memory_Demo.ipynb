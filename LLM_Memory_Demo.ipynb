{
 "cells": [
  {
   "cell_type": "code",
   "execution_count": null,
   "id": "2ca6c6ce-d543-489b-9170-bb77c2d42da2",
   "metadata": {},
   "outputs": [],
   "source": [
    "import os\n",
    "from dotenv import load_dotenv\n",
    "from mem0 import Memory"
   ]
  },
  {
   "cell_type": "code",
   "execution_count": null,
   "id": "64267c87-1f87-4cd5-88cb-78ca7719e54b",
   "metadata": {},
   "outputs": [],
   "source": [
    "load_dotenv()\n",
    "\n",
    "LLM_AZURE_OPENAI_API_KEY = os.environ[\"LLM_AZURE_OPENAI_API_KEY\"]\n",
    "LLM_AZURE_CHAT_COMPLETION_DEPLOYMENT = os.environ[\"LLM_AZURE_CHAT_COMPLETION_DEPLOYMENT\"]\n",
    "LLM_AZURE_OPENAI_ENDPOINT = os.environ[\"LLM_AZURE_OPENAI_ENDPOINT\"]\n",
    "LLM_AZURE_CHAT_COMPLETION_API_VERSION = os.environ[\"LLM_AZURE_CHAT_COMPLETION_API_VERSION\"]\n",
    "LLM_AZURE_EMBEDDING_DEPLOYMENT = os.environ[\"LLM_AZURE_EMBEDDING_DEPLOYMENT\"]\n",
    "LLM_AZURE_EMBEDDING_API_VERSION = os.environ[\"LLM_AZURE_EMBEDDING_API_VERSION\"]\n",
    "SEARCH_SERVICE_NAME = os.environ[\"SEARCH_SERVICE_NAME\"]\n",
    "SEARCH_SERVICE_API_KEY = os.environ[\"SEARCH_SERVICE_API_KEY\"]"
   ]
  },
  {
   "cell_type": "code",
   "execution_count": null,
   "id": "4dd00149-7c7c-493f-9e79-b7342063a7be",
   "metadata": {},
   "outputs": [],
   "source": [
    "config = {\n",
    "    \"llm\": {\n",
    "        \"provider\": \"azure_openai\",\n",
    "        \"config\": {\n",
    "            \"model\": LLM_AZURE_CHAT_COMPLETION_DEPLOYMENT,\n",
    "            \"temperature\": 0.1,\n",
    "            \"max_tokens\": 2000,\n",
    "            \"azure_kwargs\": {\n",
    "                  \"azure_deployment\": LLM_AZURE_CHAT_COMPLETION_DEPLOYMENT,\n",
    "                  \"api_version\": LLM_AZURE_CHAT_COMPLETION_API_VERSION,\n",
    "                  \"azure_endpoint\": LLM_AZURE_OPENAI_ENDPOINT,\n",
    "                  \"api_key\": LLM_AZURE_OPENAI_API_KEY,\n",
    "                  \"default_headers\": {\n",
    "                    \"CustomHeader\": \"memo-demo\",\n",
    "                  }\n",
    "              }\n",
    "        }\n",
    "    },\n",
    "    \"embedder\": {\n",
    "        \"provider\": \"azure_openai\",\n",
    "        \"config\": {\n",
    "            \"model\": LLM_AZURE_EMBEDDING_DEPLOYMENT,\n",
    "            \"embedding_dims\": 1536,\n",
    "            \"azure_kwargs\": {\n",
    "                \"api_version\": LLM_AZURE_EMBEDDING_API_VERSION,\n",
    "                \"azure_deployment\": LLM_AZURE_EMBEDDING_DEPLOYMENT,\n",
    "                \"azure_endpoint\": LLM_AZURE_OPENAI_ENDPOINT,\n",
    "                \"api_key\": LLM_AZURE_OPENAI_API_KEY,\n",
    "            },\n",
    "        },\n",
    "    },\n",
    "    \"vector_store\": {\n",
    "        \"provider\": \"azure_ai_search\",\n",
    "        \"config\": {\n",
    "            \"service_name\": SEARCH_SERVICE_NAME,\n",
    "            \"api_key\": SEARCH_SERVICE_API_KEY,\n",
    "            \"collection_name\": \"memories\",\n",
    "            \"embedding_model_dims\": 1536,\n",
    "        },\n",
    "    },\n",
    "}"
   ]
  },
  {
   "cell_type": "code",
   "execution_count": null,
   "id": "ac9d9190-5cdf-494f-9784-5dca9c22f157",
   "metadata": {},
   "outputs": [],
   "source": [
    "m = Memory.from_config(config)"
   ]
  },
  {
   "cell_type": "code",
   "execution_count": null,
   "id": "9d1e22bf-b768-4d66-a5f0-62a06c92ae2d",
   "metadata": {},
   "outputs": [],
   "source": [
    "messages = [\n",
    "    {\"role\": \"user\", \"content\": \"I'm planning to watch a movie tonight. Any recommendations?\"},\n",
    "    {\"role\": \"assistant\", \"content\": \"How about thriller movies? They can be quite engaging.\"},\n",
    "    {\"role\": \"user\", \"content\": \"I'm not a big fan of thriller movies but I love sci-fi movies.\"},\n",
    "    {\"role\": \"assistant\", \"content\": \"Got it! I'll avoid thriller recommendations and suggest sci-fi movies in the future.\"}\n",
    "]\n",
    "m.add(messages, user_id=\"Jhon\", metadata={\"category\": \"movies\"})"
   ]
  },
  {
   "cell_type": "code",
   "execution_count": null,
   "id": "f3717e35-cf6c-445a-9da1-ff83054435ed",
   "metadata": {},
   "outputs": [],
   "source": [
    "m.get_all(user_id=\"Jhon\")"
   ]
  },
  {
   "cell_type": "code",
   "execution_count": null,
   "id": "16467c27-a027-48f4-bbcf-8f8318dec6d6",
   "metadata": {},
   "outputs": [],
   "source": [
    "conversation = [\n",
    "    {\"role\": \"user\", \"content\": \"I'm planning a trip to Japan in the fall.\"},\n",
    "    {\"role\": \"assistant\", \"content\": \"That's a great time to visit Japan!\"},\n",
    "    {\"role\": \"user\", \"content\": \"I'd like to visit Tokyo and Kyoto, and see Mount Fuji.\"}\n",
    "]\n",
    "m.add(conversation, user_id=\"Jhon\", metadata={\"category\": \"travel\"})"
   ]
  },
  {
   "cell_type": "code",
   "execution_count": null,
   "id": "96d62489-f849-426b-9692-8dfdf57e7d6b",
   "metadata": {},
   "outputs": [],
   "source": [
    "m.search(query=\"Should I drink coffee or tea?\", user_id=\"Jhon\")"
   ]
  },
  {
   "cell_type": "code",
   "execution_count": null,
   "id": "84916ce7-453e-4075-8027-b260ea88404f",
   "metadata": {},
   "outputs": [],
   "source": [
    "m.add(\n",
    "    \"I prefer window seats on long flights and usually bring my own headphones.\",\n",
    "    user_id=\"Jhon\",\n",
    "    metadata={\"category\": \"travel_preferences\", \"importance\": \"medium\"}\n",
    ")"
   ]
  },
  {
   "cell_type": "code",
   "execution_count": null,
   "id": "aea73e7f-ead4-46cc-82bd-129e13a3c38b",
   "metadata": {},
   "outputs": [],
   "source": [
    "messages = [\n",
    "    {\"role\": \"user\", \"content\": \"I watched some thriller last night and start liking genre.\"},\n",
    "]\n",
    "m.add(messages, user_id=\"Jhon\", metadata={\"category\": \"movies\"})"
   ]
  },
  {
   "cell_type": "code",
   "execution_count": null,
   "id": "9a4eba18-9b01-4d1d-9263-3e0ce9b0308a",
   "metadata": {},
   "outputs": [],
   "source": [
    "messages = [\n",
    "    {\"role\": \"user\", \"content\": \"I don't watch movies anymore\"},\n",
    "]\n",
    "m.add(messages, user_id=\"Jhon\")"
   ]
  },
  {
   "cell_type": "code",
   "execution_count": null,
   "id": "4390b812-cbcb-404e-bd88-da5641f50dc5",
   "metadata": {},
   "outputs": [],
   "source": [
    "m.search(\"Where I;d like to seat on long flights?\", user_id=\"Jhon\")"
   ]
  },
  {
   "cell_type": "code",
   "execution_count": null,
   "id": "94766c41-4f01-4fbc-a66e-f07ae048d0ae",
   "metadata": {},
   "outputs": [],
   "source": []
  }
 ],
 "metadata": {
  "kernelspec": {
   "display_name": "Python 3 (ipykernel)",
   "language": "python",
   "name": "python3"
  },
  "language_info": {
   "codemirror_mode": {
    "name": "ipython",
    "version": 3
   },
   "file_extension": ".py",
   "mimetype": "text/x-python",
   "name": "python",
   "nbconvert_exporter": "python",
   "pygments_lexer": "ipython3",
   "version": "3.12.10"
  }
 },
 "nbformat": 4,
 "nbformat_minor": 5
}
